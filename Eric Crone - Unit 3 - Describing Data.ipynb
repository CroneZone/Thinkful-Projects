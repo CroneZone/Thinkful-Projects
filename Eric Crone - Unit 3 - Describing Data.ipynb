{
 "cells": [
  {
   "cell_type": "markdown",
   "metadata": {},
   "source": [
    "# Eric Crone - Unit 3 - Describing Data\n",
    "\n",
    "6, 8, 8, 10, 11, 12, 14\n",
    "\n",
    "(1) <br>\n",
    "  Mean = $69/7 = 9.89$ <br>\n",
    "  Mode = 8 <br>\n",
    "  Median = 10 <br>\n",
    "  Variance = $((-3.89^2)/6) + ((-1.89^2)/6) + ((-1.89^2)/6) + ((0.11^2)/6) + ((1.11^2)/6) + ((2.11^2)/6) + ((4.11^2)/6) = 7.4762$ <br>\n",
    "  Standard Deviation = $ \\sqrt{6.4082} = 2.7342$ <br>\n",
    "  Standard Error = $ 2.5314 / \\sqrt{7} = 1.0335$ <br>\n",
    "  \n",
    "(2) <br>\n",
    "  The most common combination of central tendency and variance parameters for data would be the mean $\\pm$ standard deviation, especially with data that does not have any notable outliers.  However for age it would make more sense to use the median, since we often think of ages as integers instead of float values.  The standard deviation would still be the most useful variance term, giving you : $$ 10 \\pm 2.7342$$\n",
    "  \n",
    "(3) <br>\n",
    "  Mean = $70/7 = 10$ <br>\n",
    "  Mode = 8 <br>\n",
    "  Median = 10 <br>\n",
    "  Variance = $((-2.89^2)/6) + ((-1.89^2)/6) + ((-1.89^2)/6) + ((0.11^2)/6) + ((1.11^2)/6) + ((2.11^2)/6) + ((4.11^2)/6) = 7.0000$ <br>\n",
    "  Standard Deviation = $ \\sqrt{7.0000} = 2.6458 $<br>\n",
    "  Standard Error = $ 2.4605 / \\sqrt{7} = 1.0000$ <br>\n",
    "  \n",
    "  The mode and median did not change, but the mean, variance, standard dviant, and error did change.  Now the mean and median are equal and the variance values all decreased slightly.\n",
    "  \n",
    "(4) <br>\n",
    " 1, 6, 8, 10, 11, 12, 14 <br>\n",
    "  Mean = $62/7 = 8.86$ <br>\n",
    "  Mode = None, or all, since all values appear exactly once. <br>\n",
    "  Median = 10 <br>\n",
    "  Variance = $((-7.86^2)/6) + ((-2.86^2)/6) + ((-0.86^2)/6) + ((1.14^2)/6) + ((2.14^2)/6) + ((3.14^2)/6) + ((5.14^2)/6) = 18.8095$ <br>\n",
    "  Standard Deviation = $ \\sqrt{16.1224} = 4.3370$ <br>\n",
    "  Standard Error = $ 4.3370 / \\sqrt{7} = 1.6392$ <br>\n",
    "  \n",
    "  I think my previous use of median $\\pm$ standard deviation would still be the most accurate.  It is particularly true now that there is a notable outlier with Jessica which lies nearly two times the standard deviation outside of the mean.  That gives: $$ 10 \\pm 4.3370 $$\n",
    "  \n",
    "(5) <br>\n",
    "  5, 17, 20, 23 <br>\n",
    "  Mean = $65/4 = 16.25$ <br>\n",
    "  Variance = $((-11.25^2)/3) + ((0.75^2)/3) + ((3.75^2)/3) + ((6.75^2)/3) = 62.25$ <br>\n",
    "  Standard Deviation = $ \\sqrt{62.25} = 7.8899$ <br>\n",
    "  Standard Error = $ 7.8899/\\sqrt{4} = 3.9450$ <br>\n",
    "  \n",
    "  For estimating a percentage I would use the mean $\\pm$ standard error.  If I used the standard deviation my range could easily be disregarded for being too wide.  This gives: $$ 16.25\\% \\pm 3.945\\% $$ $$or$$ $$ 12.305\\% -  20.195\\% $$\n",
    "  \n",
    "  If I had to go with a single number I would use my mean, 16.25%."
   ]
  },
  {
   "cell_type": "markdown",
   "metadata": {},
   "source": [
    "# Python Check Below"
   ]
  },
  {
   "cell_type": "code",
   "execution_count": 1,
   "metadata": {},
   "outputs": [
    {
     "name": "stdout",
     "output_type": "stream",
     "text": [
      "9.857142857142858\n",
      "8\n",
      "10.0\n",
      "7.476190476190475\n",
      "2.734262327610589\n",
      "1.0334540197243192\n"
     ]
    }
   ],
   "source": [
    "import numpy as np\n",
    "import statistics as stat\n",
    "\n",
    "kids_age1 = [6, 8, 8, 10, 11, 12, 14]\n",
    "print(np.mean(kids_age1))\n",
    "print(stat.mode(kids_age1))\n",
    "print(np.median(kids_age1))\n",
    "print(np.var(kids_age1 ,ddof=1))\n",
    "print(np.std(kids_age1, ddof=1))\n",
    "print(np.std(kids_age1 ,ddof=1) / np.sqrt(len(kids_age1)))"
   ]
  },
  {
   "cell_type": "code",
   "execution_count": 2,
   "metadata": {},
   "outputs": [
    {
     "name": "stdout",
     "output_type": "stream",
     "text": [
      "10.0\n",
      "10.0\n",
      "7.0\n",
      "2.6457513110645907\n",
      "1.0\n"
     ]
    }
   ],
   "source": [
    "kids_age3 = [6, 8, 9, 10, 11, 12, 14]\n",
    "print(np.mean(kids_age3))\n",
    "#print(stat.mode(kids_age3))  Can't print mode because there is no mode.\n",
    "print(np.median(kids_age3))\n",
    "print(np.var(kids_age3 ,ddof=1))\n",
    "print(np.std(kids_age3 ,ddof=1))\n",
    "print(np.std(kids_age3 ,ddof=1) / np.sqrt(len(kids_age3)))"
   ]
  },
  {
   "cell_type": "code",
   "execution_count": 4,
   "metadata": {},
   "outputs": [
    {
     "name": "stdout",
     "output_type": "stream",
     "text": [
      "8.857142857142858\n",
      "10.0\n",
      "18.80952380952381\n",
      "4.3369947901195145\n",
      "1.6392299502912862\n"
     ]
    }
   ],
   "source": [
    "kids_age4 = [1, 6, 8, 10, 11, 12, 14]\n",
    "print(np.mean(kids_age4))\n",
    "#print(stat.mode(kids_age3))  Can't print mode because there is no mode.\n",
    "print(np.median(kids_age4))\n",
    "print(np.var(kids_age4 ,ddof=1))\n",
    "print(np.std(kids_age4 ,ddof=1))\n",
    "print(np.std(kids_age4 ,ddof=1) / np.sqrt(len(kids_age4)))"
   ]
  },
  {
   "cell_type": "code",
   "execution_count": 5,
   "metadata": {},
   "outputs": [
    {
     "name": "stdout",
     "output_type": "stream",
     "text": [
      "16.25\n",
      "62.25\n",
      "7.88986691902975\n",
      "3.944933459514875\n"
     ]
    }
   ],
   "source": [
    "fans = [5, 17, 20, 23]\n",
    "print(np.mean(fans))\n",
    "print(np.var(fans ,ddof=1))\n",
    "print(np.std(fans ,ddof=1))\n",
    "print(np.std(fans ,ddof=1) / np.sqrt(len(fans)))"
   ]
  },
  {
   "cell_type": "code",
   "execution_count": null,
   "metadata": {},
   "outputs": [],
   "source": []
  }
 ],
 "metadata": {
  "kernelspec": {
   "display_name": "Python 3",
   "language": "python",
   "name": "python3"
  },
  "language_info": {
   "codemirror_mode": {
    "name": "ipython",
    "version": 3
   },
   "file_extension": ".py",
   "mimetype": "text/x-python",
   "name": "python",
   "nbconvert_exporter": "python",
   "pygments_lexer": "ipython3",
   "version": "3.6.6"
  }
 },
 "nbformat": 4,
 "nbformat_minor": 2
}
